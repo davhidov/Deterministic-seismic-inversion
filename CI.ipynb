{
 "cells": [
  {
   "cell_type": "markdown",
   "metadata": {},
   "source": [
    "## 0.0 Libraries"
   ]
  },
  {
   "cell_type": "code",
   "execution_count": 2,
   "metadata": {},
   "outputs": [],
   "source": [
    "import os\n",
    "import sys\n",
    "import copy\n",
    "# For plotting and numerics.\n",
    "import numpy as np\n",
    "import seaborn as sns\n",
    "\n",
    "from plotly.subplots import make_subplots\n",
    "import plotly.graph_objects as go\n",
    "import json\n",
    "import matplotlib.pyplot as plt\n",
    "#import sympy\n",
    "\n",
    "# For LAS loading and data management.\n",
    "import lasio\n",
    "import pandas as pd\n",
    "import glob\n",
    "from scipy.signal import butter, lfilter, freqz\n",
    "from scipy.stats import linregress\n",
    "from obspy.io.segy.segy import _read_segy\n",
    "import math"
   ]
  },
  {
   "cell_type": "markdown",
   "metadata": {},
   "source": [
    "## 0.1 Variables"
   ]
  },
  {
   "cell_type": "code",
   "execution_count": null,
   "metadata": {},
   "outputs": [],
   "source": [
    "#Sample rate of seismic data\n",
    "sample_rate= 2\n",
    "\n",
    "#Start time of seismic data\n",
    "start_seis = 900\n",
    "\n",
    "#End time of seismic data\n",
    "end_seis = 1802\n",
    "\n",
    "#Inline number\n",
    "inline_num = 2334\n",
    "\n",
    "#Shape parameter for Kaiser window\n",
    "beta=50\n",
    "\n",
    "#Normalized amplitude treshold, smaller amplitudes will be skipped during computation\n",
    "treshold=0.2\n",
    "\n",
    "#Number of samples of the operator\n",
    "num=100\n",
    "\n",
    "# Color of heatmap\n",
    "colorscale = json.load(open('data/gap.json'))"
   ]
  },
  {
   "cell_type": "markdown",
   "metadata": {},
   "source": [
    "## 1.0 Pasrsing seismic"
   ]
  },
  {
   "cell_type": "code",
   "execution_count": null,
   "metadata": {},
   "outputs": [],
   "source": [
    "def parse_inline(inline,file_path):\n",
    "    data = []\n",
    "    cross = []\n",
    "    from obspy.io.segy.segy import _read_segy\n",
    "    stream = _read_segy(file_path,endian='>', headonly=True)\n",
    "    for trace in stream.traces:\n",
    "        if trace.header.for_3d_poststack_data_this_field_is_for_in_line_number == inline:\n",
    "            cross.append(trace.header.for_3d_poststack_data_this_field_is_for_cross_line_number)\n",
    "            trace_array = trace.unpack_data().tolist()\n",
    "            data.append(trace_array)\n",
    "    r_data = [data,cross]\n",
    "    return r_data\n",
    "\n",
    "parsed_segy = parse_inline(inline_num, 'data/Stack_izmenennyi.sgy')\n",
    "panel_IP = np.transpose(parsed_segy[0])  \n",
    "xbin = parsed_segy[1] \n",
    "\n",
    "panel_seis = np.transpose(parsed_segy[0])\n",
    "time = np.arange(start_seis, end_seis, sample_rate)"
   ]
  },
  {
   "cell_type": "markdown",
   "metadata": {},
   "source": [
    "## 1.0 Plot"
   ]
  },
  {
   "cell_type": "code",
   "execution_count": null,
   "metadata": {},
   "outputs": [],
   "source": [
    "fig=go.Figure(data=go.Heatmap(z=panel_seis,x=xbin,y=time,\n",
    "                              colorscale=\"Greys\",  \n",
    "                              colorbar=dict(\n",
    "                               title=\"Ampl\")))\n",
    "fig.update_layout(title=go.layout.Title(text=\"Initial model\"),\n",
    "                xaxis=go.layout.XAxis(title=go.layout.xaxis.Title(text='XBIN')),\n",
    "                 yaxis=go.layout.YAxis(title=go.layout.yaxis.Title(text='Time[ms]')))\n",
    "fig['layout']['yaxis']['autorange'] = \"reversed\"\n",
    "fig.show()\n",
    "\n"
   ]
  },
  {
   "cell_type": "markdown",
   "metadata": {},
   "source": [
    "## 2.0 Parsing well"
   ]
  },
  {
   "cell_type": "code",
   "execution_count": null,
   "metadata": {},
   "outputs": [],
   "source": [
    "import glob\n",
    "\n",
    "Logs = pd.DataFrame()\n",
    "temp = pd.DataFrame()\n",
    "\n",
    "las_files = glob.glob('Well/P2_AI_correct.las')\n",
    "for i, las in enumerate(las_files):\n",
    "    well = lasio.read(las,encoding='utf-8',null_policy='common')\n",
    "    logs_param = []\n",
    "    temp = pd.DataFrame()\n",
    "    for curve in well.curves:\n",
    "        try:\n",
    "            temp['ID'] = os.path.basename(las)[:5]\n",
    "            temp[curve.mnemonic] = well[curve.mnemonic]\n",
    "        except:\n",
    "            pass\n",
    "    if i == 0:   \n",
    "        Logs = temp.copy()\n",
    "    else:\n",
    "        Logs = pd.concat([Logs,temp], axis=0)\n",
    "        \n",
    "grouped = Logs.groupby('ID')\n",
    "AI_f021 = (grouped.get_group('P2_AI').AI).values\n",
    "depth_f021 = (grouped.get_group('P2_AI').DEPTH).values"
   ]
  },
  {
   "cell_type": "markdown",
   "metadata": {},
   "source": [
    "## 2.1 Interpolate Time-depth"
   ]
  },
  {
   "cell_type": "code",
   "execution_count": null,
   "metadata": {},
   "outputs": [],
   "source": [
    "TD = np.loadtxt(\"TD/P2_Time_Depth.txt\")\n",
    "from scipy.interpolate import interp1d\n",
    "f_td = interp1d(TD[:,0], TD[:,1], kind='linear',fill_value=\"extrapolate\")\n",
    "time_f021 = f_td(depth_f021)"
   ]
  },
  {
   "cell_type": "markdown",
   "metadata": {},
   "source": [
    "## 2.2 Well spectrum"
   ]
  },
  {
   "cell_type": "code",
   "execution_count": null,
   "metadata": {},
   "outputs": [],
   "source": [
    "n_log = AI_f021.shape[0]  # Number of samples.\n",
    "k_log = np.arange(n_log-1)\n",
    "Fs_log = 1 / (np.diff(time_f021/1000))  # Getting sampled frequencies.\n",
    "T_log = n_log / Fs_log\n",
    "freq_log = k_log / T_log\n",
    "freq_log = freq_log[range(n_log//2)]  # One side frequency range.\n",
    "\n",
    "spec_log = np.fft.fft(AI_f021) / n_log  # FFT computing and normalization.\n",
    "spec_log = spec_log[range(n_log//2)]\n",
    "\n",
    "#Calculate logarithmic well spectrum\n",
    "freq_log = np.log(freq_log[1:1500])\n",
    "spec_log = np.log(spec_log[1:1500])\n"
   ]
  },
  {
   "cell_type": "markdown",
   "metadata": {},
   "source": [
    "## 2.3 Linear regression on logarithmic well spectrum"
   ]
  },
  {
   "cell_type": "code",
   "execution_count": null,
   "metadata": {},
   "outputs": [],
   "source": [
    "slope, intercept, rvalue, pvalue, stderr = linregress(freq_log,np.abs(spec_log))\n",
    "print ('Regression results:')\n",
    "print (\"Intercept:\", intercept)\n",
    "print (\"Slope    :\", slope)\n",
    "print (\"R-value  :\", rvalue)\n",
    "lintrend=intercept+slope*freq_log"
   ]
  },
  {
   "cell_type": "markdown",
   "metadata": {},
   "source": [
    "## 2.0 + 2.3 Plot"
   ]
  },
  {
   "cell_type": "code",
   "execution_count": null,
   "metadata": {},
   "outputs": [],
   "source": [
    "fig = make_subplots(rows=1, cols=2,\n",
    "                   subplot_titles=(\"AI log\", \"Ampl spectrum of AI log\"),column_widths=[0.3, 0.7])\n",
    "\n",
    "\n",
    "fig.add_trace(go.Scatter(x=AI_f021,y=time_f021),row=1, col=1)\n",
    "fig['layout']['yaxis']['autorange'] = \"reversed\"\n",
    "\n",
    "fig.add_trace(go.Scatter(x=freq_log,y=np.abs(spec_log),mode='markers',marker=dict(color=\"blue\", size=5)),row=1, col=2)\n",
    "\n",
    "fig.add_trace(go.Scatter(x=freq_log,y=lintrend,line=dict(color=\"red\")),row=1, col=2)\n",
    "\n",
    "fig.update_xaxes(title_text=\"X BIN\", row=1, col=1)\n",
    "fig.update_yaxes(title_text=\"AI\", row=1, col=1)\n",
    "fig.update_xaxes(title_text=\"X BIN\", row=1, col=2)\n",
    "fig.update_yaxes(title_text=\"AI\", row=1, col=2)\n",
    "\n",
    "fig.update_layout(showlegend=False,height=600, width=800)\n",
    "\n"
   ]
  },
  {
   "cell_type": "markdown",
   "metadata": {},
   "source": [
    "## 3.1  Seismic spectrum "
   ]
  },
  {
   "cell_type": "code",
   "execution_count": null,
   "metadata": {},
   "outputs": [],
   "source": [
    "#Расчет весового окна Хэмминга по теории\n",
    "n_seis = len(time)\n",
    "Hamming_window=[0]*n_seis\n",
    "for i in range(n_seis):\n",
    "    Hamming_window[i] = 0.53836 - 0.46164*np.cos(2*np.pi*i/(n_seis-1))\n",
    "Hamming_window_teor = Hamming_window"
   ]
  },
  {
   "cell_type": "code",
   "execution_count": null,
   "metadata": {},
   "outputs": [],
   "source": [
    "#Расчет АЧХ по всем трассам, а затем получение среднего АЧХ: FFT из НАМПАЯ + Расчет АКФ\n",
    "n_seis = len(time)\n",
    "half_n_seis = n_seis//2\n",
    "min_time_op = 0\n",
    "max_time_op = len(time)\n",
    "xmin_op = 0\n",
    "xmax_op = len(xbin)\n",
    "FFT_seis = [0]*xmax_op\n",
    "panel_seis_AKF = [0]*panel_seis\n",
    "#Расчет АКФ для трасс - свертка трассы с собой\n",
    "for i in range(xmax_op):\n",
    "    panel_seis_AKF[:,i] = np.convolve(panel_seis[:,i], panel_seis[:,i], mode='same')\n",
    "\n",
    "#C Хэммингом    \n",
    "panel_seis_Hamming = [0]*panel_seis_AKF    \n",
    "for i in range(xmax_op):    \n",
    "    panel_seis_Hamming[:,i] = panel_seis_AKF[:,i]*Hamming_window\n",
    "    FFT_seis[i] = np.abs(np.fft.fft(panel_seis_Hamming[:,i]))\n",
    "\n",
    "fourier_spec = np.mean(FFT_seis, axis=0)\n",
    "\n",
    "Re_spec = [0]*half_n_seis\n",
    "Im_spec = [0]*half_n_seis\n",
    "spec_seis = [0]*half_n_seis\n",
    "for i in range(half_n_seis):\n",
    "    Re_spec[i] = np.real(fourier_spec[i])\n",
    "    Im_spec[i] = np.imag(fourier_spec[i])\n",
    "    spec_seis[i] = (Re_spec[i]*Re_spec[i] + Im_spec[i]*Im_spec[i])**0.25\n",
    "\n",
    "normseis = spec_seis/np.max(spec_seis)\n",
    "\n",
    "fourier_freq = np.fft.fftfreq(n_seis, d = sample_rate/1000)\n",
    "freq_seis = fourier_freq[:half_n_seis]"
   ]
  },
  {
   "cell_type": "markdown",
   "metadata": {},
   "source": [
    "## 3.0 + 3.1 Plot"
   ]
  },
  {
   "cell_type": "code",
   "execution_count": null,
   "metadata": {},
   "outputs": [],
   "source": [
    "fig=go.Figure()\n",
    "fig.add_trace(go.Scatter(\n",
    "    x=freq_seis,\n",
    "    y=normseis,\n",
    "    mode='lines',\n",
    "    name='Normalized seismic AS'))\n",
    "fig.update_layout(height=600, width=1000)"
   ]
  },
  {
   "cell_type": "markdown",
   "metadata": {},
   "source": [
    "## 4.0 Operator CI"
   ]
  },
  {
   "cell_type": "code",
   "execution_count": null,
   "metadata": {},
   "outputs": [],
   "source": [
    "#Calculate regression based trend well spectrum\n",
    "WelltrendSpectrum = intercept*np.power(freq_seis,slope)\n",
    "\n",
    "#Calculate residual spectrum\n",
    "ResidualSpectrum=np.zeros(len(normseis))\n",
    "for i in range(len(normseis)):\n",
    "    if normseis[i]>treshold:\n",
    "        ResidualSpectrum[i]= WelltrendSpectrum[i] / normseis[i]\n",
    "        \n",
    "#Normalize residual spectrum\n",
    "ResidualSpectrum = ResidualSpectrum / np.max(ResidualSpectrum)\n",
    "\n",
    "#Plot normalized seismic spectrum with well trend spectrum\n",
    "\n",
    "thold=np.ones(len(freq_seis))\n",
    "thold=treshold*thold\n",
    "\n",
    "fig=go.Figure()\n",
    "fig.add_trace(go.Scatter(\n",
    "    x=freq_seis,\n",
    "    y=normseis,\n",
    "    mode='lines',\n",
    "    name='Normalized seismic AS',\n",
    "    line=dict(color='blue')\n",
    "))\n",
    "fig.add_trace(go.Scatter(\n",
    "    x=freq_seis,\n",
    "    y=WelltrendSpectrum,\n",
    "    mode='lines',\n",
    "    name='Regression based AI AS',\n",
    "    line=dict(color='orange')\n",
    "))\n",
    "fig.add_trace(go.Scatter(\n",
    "    x=freq_seis,\n",
    "    y=ResidualSpectrum,\n",
    "    mode='lines',\n",
    "    name='Frequency domain raw operator',\n",
    "    line=dict(color='red')\n",
    "))\n",
    "fig.add_trace(go.Scatter(\n",
    "    x=freq_seis,\n",
    "    y=thold,\n",
    "    mode='lines',\n",
    "    name='Treshold',\n",
    "    line=dict(color='grey')\n",
    "))\n",
    "fig.update_layout(title=go.layout.Title(text=\"Seismic spectrums\"),\n",
    "                 xaxis=go.layout.XAxis(title=go.layout.xaxis.Title(text='Frequency [Hz]'),range=[-1,125]),\n",
    "                 yaxis=go.layout.YAxis(title=go.layout.yaxis.Title(text='Normalized Amplitude'),range=[-0.01,2]),\n",
    "                height=600, width=1000)"
   ]
  },
  {
   "cell_type": "code",
   "execution_count": null,
   "metadata": {},
   "outputs": [],
   "source": [
    "#Operator phase spectrum depending on polarity of the seismic data\n",
    "#SEG normal(AI increase = through): phase=90; SEG reverse (AI increase = Peak): phase=-90\n",
    "phase=-90\n",
    "\n",
    "#Calculate dt\n",
    "dt=1/(2*np.max(freq_seis))\n",
    "df=freq_seis[2]-freq_seis[1]\n",
    "\n",
    "#Setup complex amplitude spectrum for ifft with phase assumption\n",
    "phase=np.radians(phase)\n",
    "cspectrum_poz=ResidualSpectrum*(np.cos(phase)+1j*np.sin(phase))\n",
    "cspectrum_neg=ResidualSpectrum*(np.cos(-1*phase)+1j*np.sin(-1*phase))\n",
    "rev_cspectrum_neg=np.fliplr([cspectrum_neg])[0]\n",
    "input_cspectrum=np.append(cspectrum_poz,rev_cspectrum_neg)\n",
    "\n",
    "#Calculate ifft and reorder arrays\n",
    "t_op=np.fft.ifft(input_cspectrum)\n",
    "start_t=(-1/2)*dt*(len(input_cspectrum))\n",
    "t_shift=np.linspace(start_t,-1*start_t,len(t_op))\n",
    "t_op_shift=np.fft.ifftshift(t_op)\n",
    "\n",
    "#Tapering\n",
    "window=np.kaiser(len(t_shift),beta)\n",
    "t_op_final=t_op_shift*window\n",
    "\n",
    "#Operator trimming indexes\n",
    "start_i=(int(len(t_shift)/2))-int(num/2)\n",
    "stop_i=(int(len(t_shift)/2))+int(num/2)"
   ]
  },
  {
   "cell_type": "markdown",
   "metadata": {},
   "source": [
    "## 4.0 Plot"
   ]
  },
  {
   "cell_type": "code",
   "execution_count": null,
   "metadata": {},
   "outputs": [],
   "source": [
    "\n",
    "#Plot final time domain operator\n",
    "fig=go.Figure()\n",
    "fig.add_trace(go.Scatter(\n",
    "    x=t_shift,\n",
    "    y=np.real(t_op_final),\n",
    "    mode='lines',\n",
    "    name='Time domain operator'\n",
    "))\n",
    "fig.update_layout(title=go.layout.Title(text=\"Colour inversion operator\"),\n",
    "                 xaxis=go.layout.XAxis(title=go.layout.xaxis.Title(text='Time [s]')),\n",
    "                 yaxis=go.layout.YAxis(title=go.layout.yaxis.Title(text='Amplitude')))\n",
    "fig.show()"
   ]
  },
  {
   "cell_type": "markdown",
   "metadata": {},
   "source": [
    "## 4.1 QC operator"
   ]
  },
  {
   "cell_type": "code",
   "execution_count": null,
   "metadata": {},
   "outputs": [],
   "source": [
    "\n",
    "bt_op=np.fft.fft(t_op_final)\n",
    "backfreq=np.fft.fftfreq(len(t_op_final),dt)\n",
    "\n",
    "fig=go.Figure()\n",
    "fig.add_trace(go.Scatter(\n",
    "    x=backfreq,\n",
    "    y=abs(bt_op),\n",
    "    mode='lines',\n",
    "    name='Tapered backtransformed operator',\n",
    "    line=dict(color='red')\n",
    "    \n",
    "))\n",
    "fig.add_trace(go.Scatter(\n",
    "    x=freq_seis,\n",
    "    y=ResidualSpectrum,\n",
    "    mode='lines',\n",
    "    name='Frequency domain raw operator',\n",
    "    line=dict(color='grey')\n",
    "))\n",
    "fig.update_layout(title=go.layout.Title(text=\"QC tapering\"),\n",
    "                 xaxis=go.layout.XAxis(title=go.layout.xaxis.Title(text='Frequency (Hz)'),range=[0, 145]),\n",
    "                 yaxis=go.layout.YAxis(title=go.layout.yaxis.Title(text='Normalized amplitude'),range=[-0.1, 1.1]))\n"
   ]
  },
  {
   "cell_type": "code",
   "execution_count": null,
   "metadata": {},
   "outputs": [],
   "source": [
    "fig=go.Figure()\n",
    "fig.add_trace(go.Scatter(\n",
    "    x=freq_seis,\n",
    "    y=normseis,\n",
    "    mode='lines',\n",
    "    name='Normalized seismic AS',\n",
    "    line=dict(color='blue')\n",
    "))\n",
    "fig.add_trace(go.Scatter(\n",
    "    x=freq_seis,\n",
    "    y=WelltrendSpectrum,\n",
    "    mode='lines',\n",
    "    name='Regression based AI AS',\n",
    "    line=dict(color='orange')\n",
    "))\n",
    "fig.add_trace(go.Scatter(\n",
    "    x=backfreq,\n",
    "    y=np.abs(bt_op),\n",
    "    mode='lines',\n",
    "    name='Tapered backtransformed operator',\n",
    "    line=dict(color='red')\n",
    "))\n",
    "fig.add_trace(go.Scatter(\n",
    "    x=freq_seis,\n",
    "    y=thold,\n",
    "    mode='lines',\n",
    "    name='Treshold',\n",
    "    line=dict(color='grey')\n",
    "))\n",
    "fig.update_layout(title=go.layout.Title(text=\"Seismic spectrums\"),\n",
    "                 xaxis=go.layout.XAxis(title=go.layout.xaxis.Title(text='Frequency [Hz]'),range=[-1,125]),\n",
    "                 yaxis=go.layout.YAxis(title=go.layout.yaxis.Title(text='Normalized Amplitude'),range=[-0.01,2]),\n",
    "                height=600, width=1000)"
   ]
  },
  {
   "cell_type": "markdown",
   "metadata": {},
   "source": [
    "## 5.0 Свёртка с сейсмикой"
   ]
  },
  {
   "cell_type": "code",
   "execution_count": null,
   "metadata": {},
   "outputs": [],
   "source": [
    "def convolve(t):\n",
    "    return np.convolve(t, np.abs(t_op_final), mode='same')\n",
    "ci = (np.apply_along_axis(convolve, axis=0, arr=panel_seis))"
   ]
  },
  {
   "cell_type": "markdown",
   "metadata": {},
   "source": [
    "## 5.0 Plot"
   ]
  },
  {
   "cell_type": "code",
   "execution_count": null,
   "metadata": {},
   "outputs": [],
   "source": [
    "fig=go.Figure(data=go.Heatmap(z=ci,x=xbin,y=time,\n",
    "                                  colorscale= colorscale,\n",
    "                                  colorbar=dict(\n",
    "                                  tick0=0,\n",
    "                                  dtick=0.001)\n",
    "    ))\n",
    "    \n",
    "\n",
    "fig.update_layout(xaxis=go.layout.XAxis(title=go.layout.xaxis.Title(text='XBIN')),\n",
    "                 yaxis=go.layout.YAxis(title=go.layout.yaxis.Title(text='Time[ms]')),height=800, width=1000)\n",
    "\n",
    "fig['layout']['yaxis']['autorange'] = \"reversed\"\n",
    "\n",
    "fig.show()"
   ]
  },
  {
   "cell_type": "code",
   "execution_count": null,
   "metadata": {},
   "outputs": [],
   "source": []
  }
 ],
 "metadata": {
  "kernelspec": {
   "display_name": "Python 3",
   "language": "python",
   "name": "python3"
  },
  "language_info": {
   "codemirror_mode": {
    "name": "ipython",
    "version": 3
   },
   "file_extension": ".py",
   "mimetype": "text/x-python",
   "name": "python",
   "nbconvert_exporter": "python",
   "pygments_lexer": "ipython3",
   "version": "3.7.6"
  }
 },
 "nbformat": 4,
 "nbformat_minor": 2
}
